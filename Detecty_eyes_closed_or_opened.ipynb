{
 "cells": [
  {
   "cell_type": "code",
   "execution_count": null,
   "id": "660078fe",
   "metadata": {},
   "outputs": [],
   "source": [
    "from scipy.spatial import distance\n",
    "from imutils import face_utils\n",
    "import numpy as np\n",
    "import pygame\n",
    "import time\n",
    "import dlib\n",
    "import cv2"
   ]
  },
  {
   "cell_type": "code",
   "execution_count": null,
   "id": "b7bf4a2b",
   "metadata": {},
   "outputs": [],
   "source": [
    "EYE_ASPECT_RATIO_THRESHOLD = 0.3\n",
    "\n",
    "EYE_ASPECT_RATIO_CONSEC_FRAMES = 60\n",
    "COUNTER = 0\n",
    "face_cascade = cv2.CascadeClassifier(\"/Users/harshareddy/VsCode/Pythonn/NULLCLASS/Detect_eyes_opened_closed/haarcascade_frontalface_alt.xml\")\n"
   ]
  },
  {
   "cell_type": "code",
   "execution_count": null,
   "id": "87243908",
   "metadata": {},
   "outputs": [],
   "source": [
    "def eye_aspect_ratio(eye):\n",
    "    A = distance.euclidean(eye[1], eye[5])\n",
    "    B = distance.euclidean(eye[2], eye[4])\n",
    "    C = distance.euclidean(eye[0], eye[3])\n",
    "    ear = (A+B) / (2*C)\n",
    "    return ear"
   ]
  },
  {
   "cell_type": "code",
   "execution_count": null,
   "id": "878d2226",
   "metadata": {},
   "outputs": [],
   "source": [
    "detector = dlib.get_frontal_face_detector()\n",
    "predictor = dlib.shape_predictor('shape_predictor_68_face_landmarks.dat')\n"
   ]
  },
  {
   "cell_type": "code",
   "execution_count": null,
   "id": "1775a561",
   "metadata": {},
   "outputs": [],
   "source": [
    "(lStart, lEnd) = face_utils.FACIAL_LANDMARKS_IDXS['left_eye']\n",
    "(rStart, rEnd) = face_utils.FACIAL_LANDMARKS_IDXS['right_eye']\n"
   ]
  },
  {
   "cell_type": "code",
   "execution_count": null,
   "id": "8131774c",
   "metadata": {},
   "outputs": [],
   "source": [
    "video_capture = cv2.VideoCapture(0)\n",
    "time.sleep(2)"
   ]
  },
  {
   "cell_type": "code",
   "execution_count": null,
   "id": "a8205e6e",
   "metadata": {},
   "outputs": [],
   "source": [
    "# Increase this value for less sensitivity\n",
    "\n",
    "while(True):\n",
    "    ret, frame = video_capture.read()\n",
    "    frame = cv2.flip(frame,1)\n",
    "    gray = cv2.cvtColor(frame, cv2.COLOR_BGR2GRAY)\n",
    "\n",
    "    faces = detector(gray, 0)\n",
    "\n",
    "    for face in faces:\n",
    "\n",
    "        shape = predictor(gray, face)\n",
    "        shape = face_utils.shape_to_np(shape)\n",
    "\n",
    "        leftEye = shape[lStart:lEnd]\n",
    "        rightEye = shape[rStart:rEnd]\n",
    "\n",
    "        leftEyeAspectRatio = eye_aspect_ratio(leftEye)\n",
    "        rightEyeAspectRatio = eye_aspect_ratio(rightEye)\n",
    "\n",
    "        eyeAspectRatio = (leftEyeAspectRatio + rightEyeAspectRatio) / 2\n",
    "\n",
    "        leftEyeHull = cv2.convexHull(leftEye)\n",
    "        rightEyeHull = cv2.convexHull(rightEye)\n",
    "        cv2.drawContours(frame, [leftEyeHull], -1, (0, 255, 0), 1)\n",
    "        cv2.drawContours(frame, [rightEyeHull], -1, (0, 255, 0), 1)\n",
    "\n",
    "        if(eyeAspectRatio < EYE_ASPECT_RATIO_THRESHOLD):\n",
    "            cv2.putText(frame, \"Eyes Closed\", (150,200), cv2.FONT_HERSHEY_SIMPLEX, 1.5, (0,0,255), 2)\n",
    "        else:\n",
    "            cv2.putText(frame, \"Eyes Open\", (150,200), cv2.FONT_HERSHEY_SIMPLEX, 1.5, (0,255,0), 2)\n",
    "\n",
    "    cv2.imshow('Video', frame)\n",
    "    if(cv2.waitKey(1) & 0xFF == ord('q')):\n",
    "        break\n",
    "video_capture.release()\n",
    "cv2.destroyAllWindows()\n",
    "# Save the model architecture as JSON\n",
    "model_json = model.to_json()\n",
    "with open(\"model_eyes.json\", \"w\") as json_file:\n",
    "    json_file.write(model_json)\n",
    "\n",
    "# Save the model weights\n",
    "model.save_weights(\"model_1.h5\")"
   ]
  },
  {
   "cell_type": "code",
   "execution_count": 1,
   "id": "618db503",
   "metadata": {},
   "outputs": [
    {
     "name": "stdout",
     "output_type": "stream",
     "text": [
      "pygame 2.5.2 (SDL 2.28.3, Python 3.11.5)\n",
      "Hello from the pygame community. https://www.pygame.org/contribute.html\n"
     ]
    },
    {
     "name": "stderr",
     "output_type": "stream",
     "text": [
      "[ERROR:0@2.801] global persistence.cpp:519 open Can't open file: '/Users/harshareddy/VsCode/Pythonn/NULLCLASS/Detect_eyes_opened_closed/haarcascade_frontalface_alt.xml' in read mode\n"
     ]
    }
   ],
   "source": [
    "from scipy.spatial import distance\n",
    "from imutils import face_utils\n",
    "import numpy as np\n",
    "import pygame\n",
    "import time\n",
    "import dlib\n",
    "import cv2\n",
    "from keras.models import Sequential\n",
    "from keras.layers import Dense\n",
    "\n",
    "EYE_ASPECT_RATIO_THRESHOLD = 0.3\n",
    "EYE_ASPECT_RATIO_CONSEC_FRAMES = 60\n",
    "COUNTER = 0\n",
    "face_cascade = cv2.CascadeClassifier(\"/Users/harshareddy/VsCode/Pythonn/NULLCLASS/Detect_eyes_opened_closed/haarcascade_frontalface_alt.xml\")\n",
    "\n",
    "def eye_aspect_ratio(eye):\n",
    "    A = distance.euclidean(eye[1], eye[5])\n",
    "    B = distance.euclidean(eye[2], eye[4])\n",
    "    C = distance.euclidean(eye[0], eye[3])\n",
    "    ear = (A + B) / (2 * C)\n",
    "    return ear\n",
    "\n",
    "detector = dlib.get_frontal_face_detector()\n",
    "predictor = dlib.shape_predictor('shape_predictor_68_face_landmarks.dat')\n",
    "(lStart, lEnd) = face_utils.FACIAL_LANDMARKS_IDXS['left_eye']\n",
    "(rStart, rEnd) = face_utils.FACIAL_LANDMARKS_IDXS['right_eye']\n",
    "\n",
    "# Define a simple neural network model\n",
    "model = Sequential()\n",
    "model.add(Dense(64, input_dim=68, activation='relu'))\n",
    "model.add(Dense(1, activation='sigmoid'))\n",
    "\n",
    "# Compile the model\n",
    "model.compile(optimizer='adam', loss='binary_crossentropy', metrics=['accuracy'])\n",
    "\n",
    "video_capture = cv2.VideoCapture(0)\n",
    "time.sleep(2)\n",
    "\n",
    "capturing = True  # Variable to control video capturing\n",
    "\n",
    "while capturing:\n",
    "    ret, frame = video_capture.read()\n",
    "    frame = cv2.flip(frame, 1)\n",
    "    gray = cv2.cvtColor(frame, cv2.COLOR_BGR2GRAY)\n",
    "\n",
    "    faces = detector(gray, 0)\n",
    "\n",
    "    for face in faces:\n",
    "        shape = predictor(gray, face)\n",
    "        shape = face_utils.shape_to_np(shape)\n",
    "\n",
    "        leftEye = shape[lStart:lEnd]\n",
    "        rightEye = shape[rStart:rEnd]\n",
    "\n",
    "        leftEyeAspectRatio = eye_aspect_ratio(leftEye)\n",
    "        rightEyeAspectRatio = eye_aspect_ratio(rightEye)\n",
    "\n",
    "        eyeAspectRatio = (leftEyeAspectRatio + rightEyeAspectRatio) / 2\n",
    "\n",
    "        leftEyeHull = cv2.convexHull(leftEye)\n",
    "        rightEyeHull = cv2.convexHull(rightEye)\n",
    "        cv2.drawContours(frame, [leftEyeHull], -1, (0, 255, 0), 1)\n",
    "        cv2.drawContours(frame, [rightEyeHull], -1, (0, 255, 0), 1)\n",
    "\n",
    "        if eyeAspectRatio < EYE_ASPECT_RATIO_THRESHOLD:\n",
    "            cv2.putText(frame, \"Eyes Closed\", (150, 200), cv2.FONT_HERSHEY_SIMPLEX, 1.5, (0, 0, 255), 2)\n",
    "        else:\n",
    "            cv2.putText(frame, \"Eyes Open\", (150, 200), cv2.FONT_HERSHEY_SIMPLEX, 1.5, (0, 255, 0), 2)\n",
    "\n",
    "    cv2.imshow('Video', frame)\n",
    "    if cv2.waitKey(1) & 0xFF == ord('q'):\n",
    "        capturing = False  # Stop capturing when 'q' is pressed\n",
    "\n",
    "# Save the model architecture as JSON\n",
    "model_json = model.to_json()\n",
    "with open(\"model.json\", \"w\") as json_file:\n",
    "    json_file.write(model_json)\n",
    "\n",
    "# Save the model weights\n",
    "model.save_weights(\"model_eee.h5\")\n",
    "\n",
    "video_capture.release()\n",
    "cv2.destroyAllWindows()\n"
   ]
  }
 ],
 "metadata": {
  "kernelspec": {
   "display_name": "Python 3 (ipykernel)",
   "language": "python",
   "name": "python3"
  },
  "language_info": {
   "codemirror_mode": {
    "name": "ipython",
    "version": 3
   },
   "file_extension": ".py",
   "mimetype": "text/x-python",
   "name": "python",
   "nbconvert_exporter": "python",
   "pygments_lexer": "ipython3",
   "version": "3.11.5"
  }
 },
 "nbformat": 4,
 "nbformat_minor": 5
}
